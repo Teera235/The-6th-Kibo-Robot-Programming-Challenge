{
  "nbformat": 4,
  "nbformat_minor": 0,
  "metadata": {
    "colab": {
      "provenance": [],
      "gpuType": "T4",
      "include_colab_link": true
    },
    "kernelspec": {
      "name": "python3",
      "display_name": "Python 3"
    },
    "language_info": {
      "name": "python"
    },
    "accelerator": "GPU"
  },
  "cells": [
    {
      "cell_type": "markdown",
      "metadata": {
        "id": "view-in-github",
        "colab_type": "text"
      },
      "source": [
        "<a href=\"https://colab.research.google.com/github/Teera235/The-6th-Kibo-Robot-Programming-Challenge/blob/main/Train_Kibo_YoloV8.ipynb\" target=\"_parent\"><img src=\"https://colab.research.google.com/assets/colab-badge.svg\" alt=\"Open In Colab\"/></a>"
      ]
    },
    {
      "cell_type": "markdown",
      "source": [
        "#กำหนด Path ที่จะทำงานใน Colab"
      ],
      "metadata": {
        "id": "prt_D2YHxDph"
      }
    },
    {
      "cell_type": "code",
      "source": [
        "import os\n",
        "HOME = os.getcwd()\n",
        "print(HOME)"
      ],
      "metadata": {
        "id": "1XpUfMAKu2_g",
        "colab": {
          "base_uri": "https://localhost:8080/"
        },
        "outputId": "854ced2f-c388-4b59-dc1d-98fa2c397c13"
      },
      "execution_count": 6,
      "outputs": [
        {
          "output_type": "stream",
          "name": "stdout",
          "text": [
            "/content/{HOME}/datasets\n"
          ]
        }
      ]
    },
    {
      "cell_type": "markdown",
      "source": [
        "#ติดตั้ง Library ที่จำเป็น"
      ],
      "metadata": {
        "id": "hQWa4whTxK4m"
      }
    },
    {
      "cell_type": "code",
      "execution_count": null,
      "metadata": {
        "id": "ZIDG3cRIokJw"
      },
      "outputs": [],
      "source": [
        "!pip install ultralytics==8.2.103 -q\n",
        "!pip install roboflow -q\n",
        "!pip uninstall -y numpy\n",
        "!pip install numpy==1.24.4\n"
      ]
    },
    {
      "cell_type": "markdown",
      "source": [
        "# สร้าง Folder รองรับ Dataset"
      ],
      "metadata": {
        "id": "wPIyZkkSxcMQ"
      }
    },
    {
      "cell_type": "code",
      "source": [
        "!mkdir -p {HOME}/datasets\n",
        "%cd {HOME}/datasets"
      ],
      "metadata": {
        "id": "WPE3-MXhvj97"
      },
      "execution_count": null,
      "outputs": []
    },
    {
      "cell_type": "markdown",
      "source": [
        "#โหลด Dataset จาก Roboflow"
      ],
      "metadata": {
        "id": "MXtSJYFHxiXV"
      }
    },
    {
      "cell_type": "code",
      "source": [
        "\n",
        "from roboflow import Roboflow\n",
        "rf = Roboflow(api_key=\"ijp1CpxrIPTwscQJxiOz\")\n",
        "project = rf.workspace(\"tee-dhqjm\").project(\"kibo_object-detection-2025\")\n",
        "version = project.version(4)\n",
        "dataset = version.download(\"yolov8\")\n",
        ""
      ],
      "metadata": {
        "id": "wqsgzx5gsM25"
      },
      "execution_count": null,
      "outputs": []
    },
    {
      "cell_type": "markdown",
      "source": [
        "#  Train Model Yolo ด้วย Dataset ที่เตรียมไว้"
      ],
      "metadata": {
        "id": "VN8mgyg3xqzv"
      }
    },
    {
      "cell_type": "code",
      "source": [
        "import ultralytics\n",
        "from ultralytics import YOLO\n",
        "%cd {HOME}\n",
        "!yolo task=detect mode=train model=yolov8s.pt data={dataset.location}/data.yaml epochs=500 imgsz=800 plots=True\n",
        "\n",
        "## API d642e7a710956cbd046dd1914760b5f4b02e0033"
      ],
      "metadata": {
        "id": "h9f3bV7Fv5iy"
      },
      "execution_count": null,
      "outputs": []
    },
    {
      "cell_type": "markdown",
      "source": [
        "#แสดงผลลัพธ์จากการ Train Model"
      ],
      "metadata": {
        "id": "dXd2zpAty2cK"
      }
    },
    {
      "cell_type": "markdown",
      "source": [
        "## เตรียมฟังก์ชั่น แสดงรูปภาพ"
      ],
      "metadata": {
        "id": "X2kuXMm2zE9X"
      }
    },
    {
      "cell_type": "code",
      "source": [
        "import matplotlib.pyplot as plt\n",
        "import cv2\n",
        "import os\n",
        "\n",
        "def display_image(image_path, figsize=(10, 10)):\n",
        "    \"\"\"แสดงภาพโดยใช้ matplotlib\"\"\"\n",
        "    if not os.path.exists(image_path):\n",
        "        print(f\"ไม่พบไฟล์ที่ {image_path}\")\n",
        "        return\n",
        "    image = cv2.imread(image_path)\n",
        "    image = cv2.cvtColor(image, cv2.COLOR_BGR2RGB)\n",
        "    plt.figure(figsize=figsize)\n",
        "    plt.imshow(image)\n",
        "    plt.axis('off')\n",
        "    plt.show()"
      ],
      "metadata": {
        "id": "shYsDXbty7NS"
      },
      "execution_count": null,
      "outputs": []
    },
    {
      "cell_type": "markdown",
      "source": [
        "##แสดง Confusion Metrix"
      ],
      "metadata": {
        "id": "5AsapeH_zLqm"
      }
    },
    {
      "cell_type": "code",
      "source": [
        "image_path = f\"{HOME}/runs/detect/train/confusion_matrix.png\"\n",
        "display_image(image_path)"
      ],
      "metadata": {
        "id": "RJziAXMsypjK"
      },
      "execution_count": null,
      "outputs": []
    },
    {
      "cell_type": "markdown",
      "source": [
        "##แสดงภาพตัวอย่างที่ทำนายแล้ว จากการ Valid"
      ],
      "metadata": {
        "id": "Y4C_k4-nzX2C"
      }
    },
    {
      "cell_type": "code",
      "source": [
        "image_path = f'{HOME}/runs/detect/train/val_batch0_pred.jpg'\n",
        "display_image(image_path)"
      ],
      "metadata": {
        "id": "XDrCMWSUwDEr"
      },
      "execution_count": null,
      "outputs": []
    },
    {
      "cell_type": "markdown",
      "source": [
        "#ดาวน์โหลด Model ไปใช้"
      ],
      "metadata": {
        "id": "OEC9C4dM0B1a"
      }
    },
    {
      "cell_type": "code",
      "source": [
        "from google.colab import files\n",
        "file_path = '/content/runs/detect/train/weights/best.pt'\n",
        "files.download(file_path)"
      ],
      "metadata": {
        "id": "y0K1tFSJz92x"
      },
      "execution_count": null,
      "outputs": []
    },
    {
      "cell_type": "markdown",
      "source": [
        "# การนำโมเดลที่สำเร็จแล้วมาใช้ (ใน Colab)"
      ],
      "metadata": {
        "id": "H2WTAsBs1NzA"
      }
    },
    {
      "cell_type": "code",
      "source": [
        "import cv2\n",
        "from ultralytics import YOLO\n",
        "import matplotlib.pyplot as plt\n",
        "from google.colab import files\n",
        "import os"
      ],
      "metadata": {
        "id": "plUc0SkQ2y-o"
      },
      "execution_count": null,
      "outputs": []
    },
    {
      "cell_type": "markdown",
      "source": [
        "## อัพโหลดไฟล์รูปที่ต้องการค้นหาวัตถุ"
      ],
      "metadata": {
        "id": "j38y2en83C6k"
      }
    },
    {
      "cell_type": "code",
      "source": [
        "\n",
        "uploaded = files.upload()\n",
        "if not uploaded:\n",
        "    raise FileNotFoundError(\"No file uploaded!\")\n",
        "test_image_path = next(iter(uploaded.keys()))"
      ],
      "metadata": {
        "id": "xokUsA6i23d7"
      },
      "execution_count": null,
      "outputs": []
    },
    {
      "cell_type": "markdown",
      "source": [
        "## เรียกใช้โมเดลที่ Train ไว้แล้ว"
      ],
      "metadata": {
        "id": "kAMDW_0L3NrC"
      }
    },
    {
      "cell_type": "code",
      "source": [
        "model_path = \"/content/best.pt\"\n",
        "if not os.path.exists(model_path):\n",
        "    raise FileNotFoundError(f\"YOLO model file not found at {model_path}\")\n",
        "model = YOLO(model_path)"
      ],
      "metadata": {
        "id": "13Po4pX93YeR"
      },
      "execution_count": null,
      "outputs": []
    },
    {
      "cell_type": "markdown",
      "source": [
        "## อ่านภาพที่อัพโหลดผ่าน Model"
      ],
      "metadata": {
        "id": "60X3_7J53YEp"
      }
    },
    {
      "cell_type": "code",
      "source": [
        "image = cv2.imread(test_image_path)\n",
        "if image is None:\n",
        "    raise FileNotFoundError(f\"Image not found at {test_image_path}\")\n",
        "\n",
        "image = cv2.cvtColor(image, cv2.COLOR_BGR2RGB)\n",
        "results = model(image)"
      ],
      "metadata": {
        "id": "0G_7DAVr3qAI"
      },
      "execution_count": null,
      "outputs": []
    },
    {
      "cell_type": "markdown",
      "source": [
        "## ตีกรอบ (Bounding Box) วัตถุจากผลลัพธ์ของ Model"
      ],
      "metadata": {
        "id": "kF0iQFuB3yeS"
      }
    },
    {
      "cell_type": "code",
      "source": [
        "for result in results:\n",
        "    boxes = result.boxes.cpu().numpy()\n",
        "    for box in boxes:\n",
        "        x1, y1, x2, y2 = box.xyxy[0]\n",
        "        confidence = box.conf[0]\n",
        "        cls = int(box.cls[0])\n",
        "        if confidence > 0.5:\n",
        "            label = f\"{model.names[cls]} {confidence:.2f}\"\n",
        "            cv2.rectangle(image, (int(x1), int(y1)), (int(x2), int(y2)), (255, 0, 0), 3)\n",
        "            cv2.putText(image,label, (int(x1), int(y1) - 10), cv2.FONT_HERSHEY_SIMPLEX, 0.5, (255, 0, 0), 2)\n"
      ],
      "metadata": {
        "id": "Hr3ll8_g1VzN"
      },
      "execution_count": null,
      "outputs": []
    },
    {
      "cell_type": "code",
      "source": [
        "plt.figure(figsize=(10, 10))\n",
        "plt.imshow(image)\n",
        "plt.axis(\"off\")\n",
        "plt.show()"
      ],
      "metadata": {
        "id": "-mREyuCP4Dtw"
      },
      "execution_count": null,
      "outputs": []
    }
  ]
}